{
 "cells": [
  {
   "cell_type": "code",
   "execution_count": 1,
   "id": "482a21c4-a598-47b3-8d14-67c2de0eb754",
   "metadata": {},
   "outputs": [],
   "source": [
    "from IPython.display import display, Math, Latex\n",
    "from sympy import *\n",
    "from sympy.solvers import solve"
   ]
  },
  {
   "cell_type": "code",
   "execution_count": 2,
   "id": "2f549f1b-cd70-445b-8fde-4404934c6e0e",
   "metadata": {},
   "outputs": [],
   "source": [
    "def display_sol(sol):\n",
    "    for i, sol in enumerate(vout_solutions):\n",
    "        display(Math(latex(sol)))"
   ]
  },
  {
   "cell_type": "markdown",
   "id": "0cd329f0-b106-46bf-b2f6-e478a2f4dccb",
   "metadata": {},
   "source": [
    "## <center> Undamped LC Filter"
   ]
  },
  {
   "cell_type": "code",
   "execution_count": 3,
   "id": "90201280-8aec-4181-b15b-217178d55cfa",
   "metadata": {},
   "outputs": [
    {
     "data": {
      "text/latex": [
       "$\\displaystyle V_{in} = I_{in} \\left(i L w + R_{L}\\right) + V_{out}$"
      ],
      "text/plain": [
       "<IPython.core.display.Math object>"
      ]
     },
     "metadata": {},
     "output_type": "display_data"
    },
    {
     "data": {
      "text/latex": [
       "$\\displaystyle V_{out} = I_{in} \\left(R_{C} - \\frac{i}{C w}\\right)$"
      ],
      "text/plain": [
       "<IPython.core.display.Math object>"
      ]
     },
     "metadata": {},
     "output_type": "display_data"
    },
    {
     "data": {
      "text/latex": [
       "$\\displaystyle I_{in,1} = \\frac{C V_{out} w}{C R_{C} w - i}$"
      ],
      "text/plain": [
       "<IPython.core.display.Math object>"
      ]
     },
     "metadata": {},
     "output_type": "display_data"
    },
    {
     "data": {
      "text/latex": [
       "$\\displaystyle V_{in} = \\frac{V_{out} \\left(C R_{C} w + C w \\left(i L w + R_{L}\\right) - i\\right)}{C R_{C} w - i}$"
      ],
      "text/plain": [
       "<IPython.core.display.Math object>"
      ]
     },
     "metadata": {},
     "output_type": "display_data"
    },
    {
     "data": {
      "text/latex": [
       "$\\displaystyle V_{out} / V_{in} = - \\frac{- C R_{C} w + i}{C R_{C} w + C R_{L} w + i \\left(C L w^{2} - 1\\right)}$"
      ],
      "text/plain": [
       "<IPython.core.display.Math object>"
      ]
     },
     "metadata": {},
     "output_type": "display_data"
    }
   ],
   "source": [
    "w = symbols('w')\n",
    "vin, vout = symbols('V_{in} V_{out}')\n",
    "Iin, Iout = symbols('I_{in} I_{out}')\n",
    "L, Rl, C, Rc = symbols('L R_{L} C R_{C}')\n",
    "\n",
    "zc = simplify(1/(I*w*C) + Rc)\n",
    "zl = simplify(I*w*L + Rl)\n",
    "\n",
    "vin_eq = Eq(vin, vout + zl * Iin)\n",
    "vout_eq = Eq(vout, Iin * zc)\n",
    "\n",
    "display(Math(latex(vin_eq)))\n",
    "display(Math(latex(vout_eq)))\n",
    "\n",
    "Iin_sol = solve(vout_eq, Iin)\n",
    "for i, sol in enumerate(Iin_sol):\n",
    "    display(Math(f\"I_{{in,{i+1}}} = \" + latex(Iin_sol[i])))\n",
    "Iin_sol = Iin_sol[0]\n",
    "\n",
    "vin_sol = simplify(vin_eq.subs(Iin, Iin_sol))\n",
    "display(Math(latex(vin_sol)))\n",
    "\n",
    "vout_over_vin = simplify(vout / vin_sol.rhs).factor(I)\n",
    "display(Math(\"V_{out} / V_{in} = \" + latex(vout_over_vin)))"
   ]
  },
  {
   "cell_type": "code",
   "execution_count": null,
   "id": "34a05b89-a70b-4b7f-a119-1440757f0423",
   "metadata": {},
   "outputs": [],
   "source": []
  },
  {
   "cell_type": "code",
   "execution_count": 43,
   "id": "b404b3ca-f469-4b5a-a66d-90cfac5c14ec",
   "metadata": {},
   "outputs": [
    {
     "data": {
      "text/latex": [
       "$\\displaystyle H = \\frac{R \\left(C r_{C} s + 1\\right)}{R + r_{L} + s^{2} \\left(C L R + C L r_{C}\\right) + s \\left(C R r_{C} + C R r_{L} + C r_{C} r_{L} + L\\right)}$"
      ],
      "text/plain": [
       "<IPython.core.display.Math object>"
      ]
     },
     "metadata": {},
     "output_type": "display_data"
    },
    {
     "data": {
      "text/latex": [
       "$\\displaystyle H_0 = \\frac{R}{R + r_{L}}$"
      ],
      "text/plain": [
       "<IPython.core.display.Math object>"
      ]
     },
     "metadata": {},
     "output_type": "display_data"
    },
    {
     "data": {
      "text/latex": [
       "$\\displaystyle w_z = \\frac{1}{C r_{C}}$"
      ],
      "text/plain": [
       "<IPython.core.display.Math object>"
      ]
     },
     "metadata": {},
     "output_type": "display_data"
    },
    {
     "data": {
      "text/latex": [
       "$\\displaystyle Q = \\frac{R + r_{L}}{\\sqrt{\\frac{R + r_{L}}{C L \\left(R + r_{C}\\right)}} \\left(C R r_{C} + C R r_{L} + C r_{C} r_{L} + L\\right)}$"
      ],
      "text/plain": [
       "<IPython.core.display.Math object>"
      ]
     },
     "metadata": {},
     "output_type": "display_data"
    },
    {
     "data": {
      "text/latex": [
       "$\\displaystyle w_0 = \\sqrt{\\frac{R + r_{L}}{C L \\left(R + r_{C}\\right)}}$"
      ],
      "text/plain": [
       "<IPython.core.display.Math object>"
      ]
     },
     "metadata": {},
     "output_type": "display_data"
    },
    {
     "data": {
      "text/latex": [
       "$\\displaystyle R = \\frac{- C r_{C} r_{L} - L}{C \\left(r_{C} + r_{L}\\right)}$"
      ],
      "text/plain": [
       "<IPython.core.display.Math object>"
      ]
     },
     "metadata": {},
     "output_type": "display_data"
    }
   ],
   "source": [
    "# Define the symbols\n",
    "C, L, rc, rl, R = symbols('C L r_{C} r_{L} R')\n",
    "w, s = symbols('w s')\n",
    "\n",
    "# Define the transfer functions\n",
    "H1 = 1 + R / (rl + s*L) + s*C*R / (1 + s*C*rc)\n",
    "H2 = R / (rl + s*L)\n",
    "H = simplify(H2 / H1)\n",
    "\n",
    "# Simplify the transfer function and factorize it\n",
    "H = H.factor(s)\n",
    "\n",
    "# Calculate H0\n",
    "H0 = simplify(H.subs(s, 0))\n",
    "\n",
    "# Extract the numerator and denominator\n",
    "num, denom = H.as_numer_denom()\n",
    "num_H0, denom_H0 = H0.as_numer_denom()\n",
    "\n",
    "numn_ = num / num_H0\n",
    "denom_ = simplify(denom / denom_H0)\n",
    "\n",
    "wz = simplify(s / (numn_ - 1))\n",
    "a = simplify((denom_ - 1)/s).factor(s).subs(s, 0)\n",
    "b = simplify(((denom_ - 1)/s - a) / s).factor(s).subs(s, 0)\n",
    "\n",
    "w0 = simplify(sqrt(1/b))\n",
    "Q = simplify(1/(w0 * a))\n",
    "\n",
    "display(Math(\"H = \" + latex(H)))\n",
    "display(Math(\"H_0 = \" + latex(H0)))\n",
    "display(Math(\"w_z = \" + latex(wz)))\n",
    "\n",
    "display(Math(\"Q = \" + latex(Q)))\n",
    "display(Math(\"w_0 = \" + latex(w0)))\n",
    "\n",
    "R_q = solve(1/Q, R)[0]\n",
    "\n",
    "display(Math(\"R = \" + latex(R_q)))"
   ]
  },
  {
   "cell_type": "code",
   "execution_count": 44,
   "id": "4db93eaf-3674-4625-be98-40e6d886d01c",
   "metadata": {},
   "outputs": [
    {
     "data": {
      "text/latex": [
       "$\\displaystyle Z = \\frac{R \\left(L s + r_{L}\\right) \\left(C r_{C} s + 1\\right)}{R + r_{L} + s^{2} \\left(C L R + C L r_{C}\\right) + s \\left(C R r_{C} + C R r_{L} + C r_{C} r_{L} + L\\right)}$"
      ],
      "text/plain": [
       "<IPython.core.display.Math object>"
      ]
     },
     "metadata": {},
     "output_type": "display_data"
    },
    {
     "data": {
      "text/latex": [
       "$\\displaystyle Z_{R = R_q} = - \\frac{\\left(L s + r_{L}\\right) \\left(C r_{C} r_{L} + L\\right) \\left(C r_{C} s + 1\\right)}{- C L s^{2} \\left(C r_{C} r_{L} - C r_{C} \\left(r_{C} + r_{L}\\right) + L\\right) - C r_{C} r_{L} + C r_{L} \\left(r_{C} + r_{L}\\right) - L}$"
      ],
      "text/plain": [
       "<IPython.core.display.Math object>"
      ]
     },
     "metadata": {},
     "output_type": "display_data"
    }
   ],
   "source": [
    "def parallel(a, b):\n",
    "    return a*b / (a + b)\n",
    "\n",
    "# Define the symbols\n",
    "C, L, rc, rl, R = symbols('C L r_{C} r_{L} R')\n",
    "w, s = symbols('w s')\n",
    "\n",
    "zl = simplify(s*L + rl)\n",
    "zc = simplify(rc + 1/(s*C))\n",
    "\n",
    "z = simplify(parallel(zl, zc))\n",
    "z = simplify(parallel(z, R))\n",
    "z = z.factor(s)\n",
    "\n",
    "display(Math(\"Z = \" + latex(z)))\n",
    "display(Math(\"Z_{R = R_q} = \" + latex(simplify(z.subs(R, R_q)))))"
   ]
  },
  {
   "cell_type": "code",
   "execution_count": null,
   "id": "7779ba22-fd45-4c3d-b677-93f58f7de47c",
   "metadata": {},
   "outputs": [],
   "source": []
  }
 ],
 "metadata": {
  "kernelspec": {
   "display_name": "Python 3 (ipykernel)",
   "language": "python",
   "name": "python3"
  },
  "language_info": {
   "codemirror_mode": {
    "name": "ipython",
    "version": 3
   },
   "file_extension": ".py",
   "mimetype": "text/x-python",
   "name": "python",
   "nbconvert_exporter": "python",
   "pygments_lexer": "ipython3",
   "version": "3.11.7"
  }
 },
 "nbformat": 4,
 "nbformat_minor": 5
}
