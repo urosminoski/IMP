{
 "cells": [
  {
   "cell_type": "code",
   "execution_count": 175,
   "id": "482a21c4-a598-47b3-8d14-67c2de0eb754",
   "metadata": {},
   "outputs": [
    {
     "data": {
      "text/latex": [
       "$\\displaystyle R_0 = \\frac{\\sqrt{L_{DM}}}{\\sqrt{C_{DM}}}, \\,\\,\\,\\,\\,\\,Q = \\frac{R_{d}}{R_{0}}, \\,\\,\\,\\,\\,\\,\\omega_0 = \\frac{1}{\\sqrt{C_{DM}} \\sqrt{L_{DM}}}, \\,\\,\\,\\,\\,\\,p(s) = \\frac{s}{\\omega_{0}}, \\,\\,\\,\\,\\,\\,x = \\frac{\\omega}{\\omega_{0}}$"
      ],
      "text/plain": [
       "<IPython.core.display.Math object>"
      ]
     },
     "metadata": {},
     "output_type": "display_data"
    },
    {
     "data": {
      "text/latex": [
       "$\\displaystyle C_d = n\\,C_{DM}, \\,\\,\\,\\,\\,\\, L_d = n\\,L_{DM}$"
      ],
      "text/plain": [
       "<IPython.core.display.Math object>"
      ]
     },
     "metadata": {},
     "output_type": "display_data"
    }
   ],
   "source": [
    "%matplotlib inline\n",
    "\n",
    "from IPython.display import display, Math, Latex\n",
    "from sympy import *\n",
    "from sympy.solvers import solve\n",
    "import numpy as np\n",
    "\n",
    "# try:\n",
    "#     import mpld3\n",
    "#     mpld3.enable_notebook()\n",
    "#     print(\"Modul mpld3 is installed.\")\n",
    "# except:\n",
    "#     print(\"Modul mpld3 is NOT installed.\")\n",
    "\n",
    "import matplotlib as mpl\n",
    "import matplotlib.pyplot as plt\n",
    "mpl.rc('text', usetex = True)\n",
    "mpl.rc('font', family = 'serif', size = 18)\n",
    "\n",
    "def abs(z):\n",
    "    z_i = simplify(z.subs(ps, I*x))\n",
    "    z_re = simplify(re(z_i))\n",
    "    z_im = simplify(im(z_i))\n",
    "    z_abs = simplify(sqrt(z_re**2 + z_im**2))\n",
    "    return z_abs\n",
    "\n",
    "def xOpt(z, disp = False):\n",
    "    dz = simplify(diff(z**2, q))\n",
    "    dz_ = solve(dz, x)\n",
    "    if disp:\n",
    "        display(Math(latex(dz_)))\n",
    "    return dz_\n",
    "\n",
    "def qOpt(z, x_opt, disp = False):\n",
    "    z /= r0\n",
    "    z = simplify(z.subs(x, sqrt(A)))\n",
    "    dz = simplify(diff(z**2, A))\n",
    "    dz_ = solve(dz, q)\n",
    "    s = []\n",
    "    for i in range(len(dz_)):\n",
    "        f = dz_[i].subs(A, x_opt**2)\n",
    "        try:\n",
    "            f_ = simplify(f.factor(n))\n",
    "        except PolynomialError:\n",
    "            f_ = simplify(f)\n",
    "        s.append(f_)\n",
    "    if disp:\n",
    "        display(Math(latex(s)))\n",
    "    return s\n",
    "\n",
    "def take_real(x, show = False):\n",
    "    x_ = [y.evalf() for y in x if y.is_real and y.is_positive]\n",
    "    if show:\n",
    "        display(Math(\"S = \" + latex(x_)))\n",
    "    if x_:\n",
    "        x_ = simplify(x_[0])\n",
    "    return x_\n",
    "\n",
    "par = lambda a,b:(a*b)/(a+b)\n",
    "\n",
    "c, l, rc, rl, cd, ld, rd = symbols('C_{DM} L_{DM} R_c R_l C_d L_d R_d', real = True, positive=True)\n",
    "s, w, w0, n, ps, q, r0, x, A, zout, pi, fc = symbols('s \\omega \\omega_0 n p Q R_0 x A |Z_{out}|_{min} \\pi f_c', real = True, positive=True)\n",
    "\n",
    "r0_ = sqrt(l/c)\n",
    "w0_ = sqrt(1/c/l)\n",
    "ps_ = s/w0\n",
    "q_ = rd/r0\n",
    "x_ = w/w0\n",
    "display(Math(\"R_0 = \" + latex(r0_) + \", \\,\\,\\,\\,\\,\\,Q = \" + latex(q_) + \", \\,\\,\\,\\,\\,\\,\\omega_0 = \" + latex(w0_) + \", \\,\\,\\,\\,\\,\\,p(s) = \" + latex(ps_) + \", \\,\\,\\,\\,\\,\\,x = \" + latex(x_)))\n",
    "display(Math(\"C_d = n\\,C_{DM}, \\,\\,\\,\\,\\,\\, L_d = n\\,L_{DM}\"))\n",
    "\n"
   ]
  },
  {
   "cell_type": "markdown",
   "id": "9bb697e6-8aa1-48a1-961b-159c59bc06cc",
   "metadata": {},
   "source": [
    "## ___Parallel-Damped LC Filter___\n",
    "\n",
    "![Alt text](imgs/LC_parallel_damped.png)"
   ]
  },
  {
   "cell_type": "code",
   "execution_count": 194,
   "id": "77c5af58-bd3c-4ae1-bcf7-84498724aa79",
   "metadata": {},
   "outputs": [],
   "source": [
    "# Defining Impedances for each Line\n",
    "z1 = rl + s*l\n",
    "z2 = rc + 1/s/c\n",
    "z3 = rd + 1/s/cd\n",
    "\n",
    "# Output Impedance and Transfer Function\n",
    "z = par(z1, par(z2,z3))\n",
    "h = par(z3, z2) / (par(z3,z2) + z1)\n",
    "z = simplify(z.factor(s))\n",
    "h = simplify(h.factor(s))\n",
    "z_ = simplify(z.subs(rl, 0).subs(rc, 0).subs(cd, n*c))\n",
    "h_ = simplify(h.subs(rl, 0).subs(rc, 0).subs(cd, n*c))\n",
    "\n",
    "# Taking Middelbrook substitutions\n",
    "zq = simplify(r0*(ps*(1+ps*q*n))/(1+ps*q*n+ps**2*(n+1)+ps**3*q*n))\n",
    "zq_abs = abs(zq)\n",
    "hq = simplify(zq/(ps*r0))\n",
    "hq_abs = abs(hq)\n",
    "\n",
    "# Finding optimal x, Q, R0 and Maximum Output Impedance\n",
    "xopt = xOpt(zq_abs, disp = False)[0]\n",
    "qopt = simplify(qOpt(zq_abs, xopt, disp = False)[0]); qopt = simplify(qopt.factor(n))\n",
    "z_max = simplify(zq_abs.subs(q, qopt).subs(x, xopt).factor(n))\n",
    "r0_opt_ = solve(z_max - zout, r0); r0_opt = take_real(r0_opt_, show = False); #display(Math(latex(ro_opt_)))\n",
    "n_opt_ = solve(z_max - zout, n); nopt = take_real(n_opt_, show = False); #display(Math(latex(n_opt_)))\n",
    "\n",
    "fm = fc * sqrt(1-1/2/q**2)\n",
    "\n",
    "# Finding High Frequency Attenuation Degradation\n",
    "w0_new = 1/sqrt(l*(c+cd))\n",
    "w0_deg = simplify((w0_new/w0_).subs(cd, n*c))\n",
    "\n",
    "c_ = 1 / (2*pi*fc*r0)\n",
    "l_ = r0 / (2*pi*fc) \n",
    "\n",
    "# Defining Curves Z/R0 and f0_new/f0 for n\n",
    "n_val = np.linspace(0.1, 10, 1024)\n",
    "z_np = lambdify(n, z_max/r0, 'numpy')\n",
    "w_np = lambdify(n, w0_deg, 'numpy')\n",
    "z_val = 20*np.log10(z_np(n_val))\n",
    "w_val = 20*np.log10(w_np(n_val))"
   ]
  },
  {
   "cell_type": "code",
   "execution_count": 195,
   "id": "ba32ac73-d6b8-4e85-8c12-17552b2f2ffb",
   "metadata": {},
   "outputs": [
    {
     "data": {
      "text/latex": [
       "$\\displaystyle Z(s) = \\frac{\\left(L_{DM} s + R_{l}\\right) \\left(C_{d} R_{d} s + 1\\right) \\left(C_{DM} R_{c} s + 1\\right)}{C_{d} C_{DM} L_{DM} s^{3} \\left(R_{c} + R_{d}\\right) + s^{2} \\left(C_{d} C_{DM} R_{c} R_{d} + C_{d} C_{DM} R_{c} R_{l} + C_{d} C_{DM} R_{d} R_{l} + C_{d} L_{DM} + C_{DM} L_{DM}\\right) + s \\left(C_{d} R_{d} + C_{d} R_{l} + C_{DM} R_{c} + C_{DM} R_{l}\\right) + 1}$"
      ],
      "text/plain": [
       "<IPython.core.display.Math object>"
      ]
     },
     "metadata": {},
     "output_type": "display_data"
    },
    {
     "data": {
      "text/latex": [
       "$\\displaystyle Z(s)|_{R_L, R_C = 0, C_d = nC} = \\frac{L_{DM} s \\left(C_{DM} R_{d} n s + 1\\right)}{C_{DM}^{2} L_{DM} R_{d} n s^{3} + C_{DM} L_{DM} s^{2} \\left(n + 1\\right) + C_{DM} R_{d} n s + 1}$"
      ],
      "text/plain": [
       "<IPython.core.display.Math object>"
      ]
     },
     "metadata": {},
     "output_type": "display_data"
    },
    {
     "data": {
      "text/latex": [
       "$\\displaystyle H(s)|_{R_L, R_C = 0, C_d = nC} = \\frac{C_{DM} R_{d} n s + 1}{C_{DM}^{2} L_{DM} R_{d} n s^{3} + C_{DM} L_{DM} s^{2} \\left(n + 1\\right) + C_{DM} R_{d} n s + 1}$"
      ],
      "text/plain": [
       "<IPython.core.display.Math object>"
      ]
     },
     "metadata": {},
     "output_type": "display_data"
    },
    {
     "data": {
      "text/latex": [
       "$\\displaystyle Z(p, Q, n) = \\frac{R_{0} p \\left(Q n p + 1\\right)}{Q n p^{3} + Q n p + p^{2} \\left(n + 1\\right) + 1}$"
      ],
      "text/plain": [
       "<IPython.core.display.Math object>"
      ]
     },
     "metadata": {},
     "output_type": "display_data"
    },
    {
     "data": {
      "text/latex": [
       "$\\displaystyle x_{opt} = \\frac{\\omega}{\\omega_0} = \\frac{\\sqrt{2}}{\\sqrt{n + 2}}$"
      ],
      "text/plain": [
       "<IPython.core.display.Math object>"
      ]
     },
     "metadata": {},
     "output_type": "display_data"
    },
    {
     "data": {
      "text/latex": [
       "$\\displaystyle Q_{opt} = \\frac{\\sqrt{6 n^{2} + 20 n + 16}}{2 n \\sqrt{n + 4}}$"
      ],
      "text/plain": [
       "<IPython.core.display.Math object>"
      ]
     },
     "metadata": {},
     "output_type": "display_data"
    },
    {
     "data": {
      "text/latex": [
       "$\\displaystyle R_{0, opt} = \\frac{0.5 n |Z_{out}|_{min}}{\\left(0.5 n + 1\\right)^{0.5}}$"
      ],
      "text/plain": [
       "<IPython.core.display.Math object>"
      ]
     },
     "metadata": {},
     "output_type": "display_data"
    },
    {
     "data": {
      "text/latex": [
       "$\\displaystyle n_{opt} = \\frac{R_{0} \\left(R_{0} + 2.0 \\left(0.25 R_{0}^{2} + |Z_{out}|_{min}^{2}\\right)^{0.5}\\right)}{|Z_{out}|_{min}^{2}}$"
      ],
      "text/plain": [
       "<IPython.core.display.Math object>"
      ]
     },
     "metadata": {},
     "output_type": "display_data"
    },
    {
     "data": {
      "text/latex": [
       "$\\displaystyle |Z_{out}|_{max} = \\frac{R_{0} \\sqrt{2 n + 4}}{n}$"
      ],
      "text/plain": [
       "<IPython.core.display.Math object>"
      ]
     },
     "metadata": {},
     "output_type": "display_data"
    },
    {
     "data": {
      "text/latex": [
       "$\\displaystyle \\frac{f_{c, new}}{f_c} = \\frac{1}{\\sqrt{n + 1}}$"
      ],
      "text/plain": [
       "<IPython.core.display.Math object>"
      ]
     },
     "metadata": {},
     "output_type": "display_data"
    },
    {
     "data": {
      "text/latex": [
       "$\\displaystyle f_m = f_{c} \\sqrt{1 - \\frac{0.5}{Q^{2}}}, \\,\\,\\,\\,\\, |Z(f = f_m)_{out}| = |Z_{out}|_{max}$"
      ],
      "text/plain": [
       "<IPython.core.display.Math object>"
      ]
     },
     "metadata": {},
     "output_type": "display_data"
    },
    {
     "data": {
      "text/latex": [
       "$\\displaystyle C = \\frac{1}{2 R_{0} \\pi f_{c}}$"
      ],
      "text/plain": [
       "<IPython.core.display.Math object>"
      ]
     },
     "metadata": {},
     "output_type": "display_data"
    },
    {
     "data": {
      "text/latex": [
       "$\\displaystyle L = \\frac{R_{0}}{2 \\pi f_{c}}$"
      ],
      "text/plain": [
       "<IPython.core.display.Math object>"
      ]
     },
     "metadata": {},
     "output_type": "display_data"
    },
    {
     "name": "stdout",
     "output_type": "stream",
     "text": [
      "\n",
      "\n",
      "\n"
     ]
    },
    {
     "data": {
      "image/png": "[encoded data removed]",
      "text/plain": [
       "<Figure size 640x480 with 1 Axes>"
      ]
     },
     "metadata": {},
     "output_type": "display_data"
    }
   ],
   "source": [
    "display(Math(r\"$Z(s) = \" + latex(z) + r\"$\"))\n",
    "display(Math(r\"$Z(s)|_{R_L, R_C = 0, C_d = nC} = \" + latex(z_) + r\"$\"))\n",
    "display(Math(r\"$H(s)|_{R_L, R_C = 0, C_d = nC} = \" + latex(h_) + r\"$\"))\n",
    "display(Math(r\"$Z(p, Q, n) = \" + latex(zq) + r\"$\"))\n",
    "display(Math(r\"$x_{opt} = \\frac{\\omega}{\\omega_0} = \" + latex(xopt) + r\"$\"))\n",
    "display(Math(r\"$Q_{opt} = \" + latex(qopt) + r\"$\"))\n",
    "display(Math(r\"$R_{0, opt} = \" + latex(r0_opt) + r\"$\"))\n",
    "display(Math(r\"$n_{opt} = \" + latex(nopt) + r\"$\"))\n",
    "display(Math(r\"$|Z_{out}|_{max} = \" + latex(z_max) + r\"$\"))\n",
    "display(Math(r\"$\\frac{f_{c, new}}{f_c} = \" + latex(w0_deg) + r\"$\"))\n",
    "display(Math(r\"$f_m = \" + latex(fm) + r\", \\,\\,\\,\\,\\, |Z(f = f_m)_{out}| = |Z_{out}|_{max}$\"))\n",
    "display(Math(r\"$C = \" + latex(c_) + r\"$\"))\n",
    "display(Math(r\"$L = \" + latex(l_) + r\"$\"))\n",
    "# display(Math(r\"$\" + latex() + r\"$\"))\n",
    "\n",
    "print('\\n\\n')\n",
    "plt.plot(n_val, z_val, label = r\"$\\frac{|Z_{out}|_{min}}{R_0}$\")\n",
    "plt.plot(n_val, w_val, label = r\"$\\frac{f_c}{f_0}$\")\n",
    "plt.grid(); plt.legend(fontsize = 20);\n",
    "plt.xlabel('n', fontsize = 20); plt.ylabel('dB', fontsize = 20);\n",
    "plt.xlim([min(n_val), 10]); plt.ylim([-15, 20]);"
   ]
  },
  {
   "cell_type": "code",
   "execution_count": 196,
   "id": "efa4a913-be4d-4faf-bea2-6ac7ec6d69e8",
   "metadata": {},
   "outputs": [
    {
     "data": {
      "text/latex": [
       "$\\displaystyle R_{in, \\, min} = -3.92 \\,\\,\\Omega, \\,\\,\\,\\,\\,|Z_{out}|_{min} = 0.392 \\,\\,\\Omega$"
      ],
      "text/plain": [
       "<IPython.core.display.Math object>"
      ]
     },
     "metadata": {},
     "output_type": "display_data"
    },
    {
     "data": {
      "text/latex": [
       "$\\displaystyle f_{switch, \\, min} = 400 \\,\\,kHz, \\,\\,\\,\\,\\,f_{crossover, \\, min} = 40 \\,\\,kHz, \\,\\,\\,\\,\\,f_{0} = 4 \\,\\,kHz$"
      ],
      "text/plain": [
       "<IPython.core.display.Math object>"
      ]
     },
     "metadata": {},
     "output_type": "display_data"
    },
    {
     "data": {
      "text/latex": [
       "$\\displaystyle n_{opt} = 4$"
      ],
      "text/plain": [
       "<IPython.core.display.Math object>"
      ]
     },
     "metadata": {},
     "output_type": "display_data"
    },
    {
     "data": {
      "text/latex": [
       "$\\displaystyle Q_{opt} = 0.612$"
      ],
      "text/plain": [
       "<IPython.core.display.Math object>"
      ]
     },
     "metadata": {},
     "output_type": "display_data"
    },
    {
     "data": {
      "text/latex": [
       "$\\displaystyle R_{0, opt} = 0.453\\, \\Omega$"
      ],
      "text/plain": [
       "<IPython.core.display.Math object>"
      ]
     },
     "metadata": {},
     "output_type": "display_data"
    },
    {
     "data": {
      "text/latex": [
       "$\\displaystyle C_{opt} = 87.879\\, \\mu F$$\\,\\,\\,\\,\\,L_{opt} = 18.034\\, \\mu H$"
      ],
      "text/plain": [
       "<IPython.core.display.Math object>"
      ]
     },
     "metadata": {},
     "output_type": "display_data"
    },
    {
     "data": {
      "text/latex": [
       "$\\displaystyle C_{d, opt} = 351.516\\, \\mu H$$\\,\\,\\,\\,\\,R_{d, opt} = 0.277\\, \\Omega$"
      ],
      "text/plain": [
       "<IPython.core.display.Math object>"
      ]
     },
     "metadata": {},
     "output_type": "display_data"
    },
    {
     "data": {
      "text/latex": [
       "$\\displaystyle |Z_{out}|_{max} = 0.392\\, \\Omega$"
      ],
      "text/plain": [
       "<IPython.core.display.Math object>"
      ]
     },
     "metadata": {},
     "output_type": "display_data"
    },
    {
     "data": {
      "text/latex": [
       "$\\displaystyle f_{cutoff} = 1.789\\, kHz$"
      ],
      "text/plain": [
       "<IPython.core.display.Math object>"
      ]
     },
     "metadata": {},
     "output_type": "display_data"
    },
    {
     "data": {
      "text/latex": [
       "$\\displaystyle f_{m} = 1.035 i\\, kHz$"
      ],
      "text/plain": [
       "<IPython.core.display.Math object>"
      ]
     },
     "metadata": {},
     "output_type": "display_data"
    },
    {
     "data": {
      "image/png": "[encoded data removed]",
      "text/plain": [
       "<Figure size 1000x600 with 1 Axes>"
      ]
     },
     "metadata": {},
     "output_type": "display_data"
    }
   ],
   "source": [
    "vin_min = 14     # In Ohms\n",
    "pin_max = 50     # In Wats\n",
    "fs_min  = 400e3  # In Hz\n",
    "\n",
    "zin_min = - vin_min**2 / pin_max\n",
    "fcross_min = fs_min/10\n",
    "fc_min = fcross_min/10\n",
    "zout_min = -1 * zin_min/10\n",
    "\n",
    "nopt_ = 4\n",
    "qopt_ = round(qopt.subs(n, nopt_).evalf(), 3)\n",
    "r0opt_ = round(r0_opt.subs(n, nopt_).subs(zout, zout_min).evalf(), 3) \n",
    "copt_ = c_.subs(pi, 3.14).subs(r0, r0opt_).subs(fc, fc_min).evalf()\n",
    "lopt_ = l_.subs(pi, 3.14).subs(r0, r0opt_).subs(fc, fc_min).evalf()\n",
    "cdopt_ = copt_*nopt_\n",
    "rdopt_ = r0opt_*qopt_\n",
    "f_cut = fc_min * w0_deg.subs(n, nopt_).evalf()\n",
    "zmax_ = round(z_max.subs(n, nopt_).subs(r0, r0opt_), 3)\n",
    "fm_ = fm.subs(fc, f_cut).subs(q, qopt_).evalf()\n",
    "\n",
    "display(Math(\"R_{in, \\, min} = \" + latex(zin_min) + \" \\,\\,\\Omega\" + \", \\,\\,\\,\\,\\,|Z_{out}|_{min} = \" + latex(zout_min) + \" \\,\\,\\Omega\"))\n",
    "display(Math(\"f_{switch, \\, min} = \" + latex(int(fs_min*1e-3)) + \" \\,\\,kHz\" + \", \\,\\,\\,\\,\\,f_{crossover, \\, min} = \" + latex(int(fcross_min*1e-3)) + \" \\,\\,kHz\" + \", \\,\\,\\,\\,\\,f_{0} = \" + latex(int(fc_min*1e-3)) + \" \\,\\,kHz\"))\n",
    "display(Math(r\"$n_{opt} = \" + latex(nopt_) + r\"$\"))\n",
    "display(Math(r\"$Q_{opt} = \" + latex(qopt_) + r\"$\"))\n",
    "display(Math(r\"$R_{0, opt} = \" + latex(r0opt_) + r\"\\, \\Omega$\"))\n",
    "display(Math(r\"$C_{opt} = \" + latex(round(copt_*1e6, 3)) + r\"\\, \\mu F$\" + r\"$\\,\\,\\,\\,\\,L_{opt} = \" + latex(round(lopt_*1e6, 3)) + r\"\\, \\mu H$\"))\n",
    "display(Math(r\"$C_{d, opt} = \" + latex(round(cdopt_*1e6, 3)) + r\"\\, \\mu H$\" + r\"$\\,\\,\\,\\,\\,R_{d, opt} = \" + latex(rdopt_) + r\"\\, \\Omega$\"))\n",
    "display(Math(r\"$|Z_{out}|_{max} = \" + latex(zmax_) + r\"\\, \\Omega$\"))\n",
    "display(Math(r\"$f_{cutoff} = \" + latex(round(f_cut*1e-3, 3)) + r\"\\, kHz$\"))\n",
    "display(Math(r\"$f_{m} = \" + latex(round(fm_*1e-3, 3)) + r\"\\, kHz$\"))\n",
    "\n",
    "x_val = np.linspace(10**-4, 10**2, 8196)\n",
    "habs = simplify(hq_abs.subs(q, qopt_).subs(n, nopt_).subs(r0, r0opt_))\n",
    "habs = lambdify(x, habs, 'numpy')\n",
    "h_val = 20*np.log10(habs(x_val))\n",
    "\n",
    "zabs = simplify(zq_abs.subs(q, qopt_).subs(n, nopt_).subs(r0, r0opt_))\n",
    "zabs = lambdify(x, zabs, 'numpy')\n",
    "z_val = 20*np.log10(zabs(x_val))\n",
    "z0_val = 20*np.log10(np.ones(len(z_val))*np.abs(zin_min))\n",
    "\n",
    "# Find the maximum value of z_val and its corresponding x value\n",
    "max_z_val = np.max(z_val)\n",
    "max_z_val_index = np.argmax(z_val)\n",
    "max_x_val = x_val[max_z_val_index]\n",
    "\n",
    "# Calculate the difference\n",
    "difference = max_z_val - z0_val[0]\n",
    "\n",
    "# Create a larger figure\n",
    "plt.figure(figsize=(10, 6))\n",
    "# Plot the values\n",
    "plt.plot(x_val, h_val, label=r'$|H(f)|$')\n",
    "plt.plot(x_val, z_val, label=r'$|Z_{out}(f)|$')\n",
    "plt.plot(x_val, z0_val, label=r'$|Z_{in}(f)|_{DCM}$')\n",
    "\n",
    "ymin = -100\n",
    "ymax = 20\n",
    "\n",
    "h_cutoff_index = np.argmin(np.abs(x_val - f_cut/fc_min))\n",
    "\n",
    "# Plot the vertical line\n",
    "plt.plot([max_x_val, max_x_val], [z0_val[0], max_z_val], 'k--')\n",
    "plt.plot([f_cut/fc_min, f_cut/fc_min], [ymin,  h_val[h_cutoff_index]], 'r--')\n",
    "\n",
    "# Annotate the plot with the difference value\n",
    "plt.annotate(r'$\\Delta Z_{dB} = $ ' + f'{-difference:.2f} dB', xy=(max_x_val, (z0_val[0] + max_z_val) / 2), \n",
    "             xytext=(max_x_val + 0.5, max_z_val + 10), fontsize=15)\n",
    "# Annotate the plot with the maximum x value\n",
    "plt.annotate(r'$f_{c} = \\,\\,$' + f'{round(f_cut*1e-3, 3)} kHz', xy=(max_x_val, max_z_val), \n",
    "             xytext=(h_cutoff_index-36.27, ymin + (ymax - ymin) * 0.29), fontsize=15)\n",
    "plt.annotate(r'$f_{m} = \\,\\,$' + f'{round(fm_*1e-3, 3)} kHz', xy=(max_x_val, max_z_val), \n",
    "             xytext=(h_cutoff_index-36.27, ymin + (ymax - ymin) * 0.22), fontsize=15)\n",
    "plt.annotate(r'$f_{0} = \\,\\,$' + f'{round(fc_min*1e-3, 3)} kHz', xy=(h_cutoff_index, max_z_val), \n",
    "             xytext=(h_cutoff_index-36.27, ymin + (ymax - ymin) * 0.15), fontsize=15)\n",
    "\n",
    "# Add labels and legend\n",
    "plt.ylabel('dB', fontsize=20); plt.xlabel(r'$\\frac{f}{f_0}$', fontsize=20)\n",
    "plt.xscale('log')\n",
    "plt.title(fr\"$f_0 = {int(fc_min*1e-3)}$ kHz\")\n",
    "plt.legend(loc='center left', bbox_to_anchor=(0, 0.9), fontsize=12)\n",
    "plt.grid();\n",
    "plt.ylim([ymin, ymax]);"
   ]
  },
  {
   "cell_type": "markdown",
   "id": "2cebbe3d-e066-4595-9b5e-37c5b49a0a92",
   "metadata": {},
   "source": [
    "## ___Series-Damped LC Filter___\n",
    "\n",
    "![Alt text](imgs/LC_series_damped.png)"
   ]
  },
  {
   "cell_type": "code",
   "execution_count": 197,
   "id": "fe9e81fe-a18c-454b-ad89-e0022b74aeed",
   "metadata": {},
   "outputs": [],
   "source": [
    "# Defining Impedances for each Line\n",
    "z1 = rl + s*l\n",
    "z2 = rc + 1/s/c\n",
    "z3 = rd + s*ld\n",
    "# display(Math(latex(simplify(par(z1,z3).subs(rl, 0).subs(ld, n*l)))))\n",
    "\n",
    "# Output Impedance and Transfer Function\n",
    "z = par(par(z3,z1), z2)\n",
    "h = z2/(z2+par(z1,z3))\n",
    "z = simplify(z.factor(s))\n",
    "h = simplify(h.factor(s))\n",
    "z_ = simplify(z.subs(rl, 0).subs(rc, 0).subs(ld, n*l))\n",
    "h_ = simplify(h.subs(rl, 0).subs(rc, 0).subs(ld, n*l))\n",
    "\n",
    "# Taking Middelbrook substitutions\n",
    "zq = simplify(r0*ps * (1+ps*n/q) / (1+ps*(n+1)/q+ps**2+ps**3*n/q))\n",
    "zq_abs = abs(zq)\n",
    "hq = simplify(zq/(ps*r0*(1+ps*n/q))*(1+ps*(1+n)/q))\n",
    "hq_abs = abs(hq)\n",
    "\n",
    "# Finding optimal x, Q, R0 and Maximum Output Impedance\n",
    "xopt = xOpt(zq_abs, disp = False)[0]\n",
    "qopt = simplify(qOpt(zq_abs, xopt, disp = False)[1]); qopt = simplify(qopt.factor(n))\n",
    "z_max = simplify(zq_abs.subs(q, qopt).subs(x, xopt).factor(n))\n",
    "r0_opt_ = solve(z_max - zout, r0); r0_opt = take_real(r0_opt_, show = False); #display(Math(latex(ro_opt_)))\n",
    "n_opt_ = solve(z_max - zout, n); nopt = simplify(n_opt_[0]) #take_real(n_opt_, show = True); display(Math(latex(n_opt_)))\n",
    "\n",
    "fm = fc * sqrt(1-1/2/q**2)\n",
    "\n",
    "# Finding High Frequency Attenuation Degradation\n",
    "w0_new = 1/sqrt(par(l,ld)*c)\n",
    "w0_deg = simplify((w0_new/w0_).subs(ld, n*l))\n",
    "\n",
    "c_ = 1 / (2*pi*fc*r0)\n",
    "l_ = r0 / (2*pi*fc) \n",
    "\n",
    "# Defining Curves Z/R0 and f0_new/f0 for n\n",
    "n_val = np.linspace(0.1, 10, 1024)\n",
    "z_np = lambdify(n, z_max/r0, 'numpy')\n",
    "w_np = lambdify(n, w0_deg, 'numpy')\n",
    "z_val = 20*np.log10(z_np(n_val))\n",
    "w_val = 20*np.log10(w_np(n_val))"
   ]
  },
  {
   "cell_type": "code",
   "execution_count": 198,
   "id": "7233fca9-ec06-4d13-911c-22da8b30404a",
   "metadata": {},
   "outputs": [
    {
     "data": {
      "text/latex": [
       "$\\displaystyle Z(s) = \\frac{\\left(L_{d} s + R_{d}\\right) \\left(L_{DM} s + R_{l}\\right) \\left(C_{DM} R_{c} s + 1\\right)}{C_{DM} L_{d} L_{DM} s^{3} + C_{DM} s^{2} \\left(L_{d} R_{c} + L_{d} R_{l} + L_{DM} R_{c} + L_{DM} R_{d}\\right) + R_{d} + R_{l} + s \\left(C_{DM} R_{c} R_{d} + C_{DM} R_{c} R_{l} + C_{DM} R_{d} R_{l} + L_{d} + L_{DM}\\right)}$"
      ],
      "text/plain": [
       "<IPython.core.display.Math object>"
      ]
     },
     "metadata": {},
     "output_type": "display_data"
    },
    {
     "data": {
      "text/latex": [
       "$\\displaystyle Z(s)|_{R_L, R_C = 0, C_d = nC} = \\frac{L_{DM} s \\left(L_{DM} n s + R_{d}\\right)}{C_{DM} L_{DM}^{2} n s^{3} + C_{DM} L_{DM} R_{d} s^{2} + L_{DM} s \\left(n + 1\\right) + R_{d}}$"
      ],
      "text/plain": [
       "<IPython.core.display.Math object>"
      ]
     },
     "metadata": {},
     "output_type": "display_data"
    },
    {
     "data": {
      "text/latex": [
       "$\\displaystyle H(s)|_{R_L, R_C = 0, C_d = nC} = \\frac{L_{DM} s \\left(n + 1\\right) + R_{d}}{C_{DM} L_{DM}^{2} n s^{3} + C_{DM} L_{DM} R_{d} s^{2} + L_{DM} s \\left(n + 1\\right) + R_{d}}$"
      ],
      "text/plain": [
       "<IPython.core.display.Math object>"
      ]
     },
     "metadata": {},
     "output_type": "display_data"
    },
    {
     "data": {
      "text/latex": [
       "$\\displaystyle Z(p, Q, n) = \\frac{R_{0} p \\left(Q + n p\\right)}{Q \\left(p^{2} + 1\\right) + n p^{3} + p \\left(n + 1\\right)}$"
      ],
      "text/plain": [
       "<IPython.core.display.Math object>"
      ]
     },
     "metadata": {},
     "output_type": "display_data"
    },
    {
     "data": {
      "text/latex": [
       "$\\displaystyle x_{opt} = \\frac{\\omega}{\\omega_0} = \\frac{\\sqrt{4 n + 2}}{2 \\sqrt{n}}$"
      ],
      "text/plain": [
       "<IPython.core.display.Math object>"
      ]
     },
     "metadata": {},
     "output_type": "display_data"
    },
    {
     "data": {
      "text/latex": [
       "$\\displaystyle Q_{opt} = \\frac{\\sqrt{2} \\sqrt{n} \\sqrt{8 n^{2} + 10 n + 3}}{2 \\sqrt{4 n + 1}}$"
      ],
      "text/plain": [
       "<IPython.core.display.Math object>"
      ]
     },
     "metadata": {},
     "output_type": "display_data"
    },
    {
     "data": {
      "text/latex": [
       "$\\displaystyle R_{0, opt} = \\frac{0.5 |Z_{out}|_{min}}{n^{0.5} \\left(n + 0.5\\right)^{0.5}}$"
      ],
      "text/plain": [
       "<IPython.core.display.Math object>"
      ]
     },
     "metadata": {},
     "output_type": "display_data"
    },
    {
     "data": {
      "text/latex": [
       "$\\displaystyle n_{opt} = \\frac{- R_{0} + \\sqrt{R_{0}^{2} + 4 |Z_{out}|_{min}^{2}}}{4 R_{0}}$"
      ],
      "text/plain": [
       "<IPython.core.display.Math object>"
      ]
     },
     "metadata": {},
     "output_type": "display_data"
    },
    {
     "data": {
      "text/latex": [
       "$\\displaystyle |Z_{out}|_{max} = \\sqrt{2} R_{0} \\sqrt{n} \\sqrt{2 n + 1}$"
      ],
      "text/plain": [
       "<IPython.core.display.Math object>"
      ]
     },
     "metadata": {},
     "output_type": "display_data"
    },
    {
     "data": {
      "text/latex": [
       "$\\displaystyle \\frac{f_{c, new}}{f_c} = \\frac{\\sqrt{n + 1}}{\\sqrt{n}}$"
      ],
      "text/plain": [
       "<IPython.core.display.Math object>"
      ]
     },
     "metadata": {},
     "output_type": "display_data"
    },
    {
     "data": {
      "text/latex": [
       "$\\displaystyle f_m = f_{c} \\sqrt{1 - \\frac{0.5}{Q^{2}}}, \\,\\,\\,\\,\\, |Z(f = f_m)_{out}| = |Z_{out}|_{max}$"
      ],
      "text/plain": [
       "<IPython.core.display.Math object>"
      ]
     },
     "metadata": {},
     "output_type": "display_data"
    },
    {
     "data": {
      "text/latex": [
       "$\\displaystyle C = \\frac{1}{2 R_{0} \\pi f_{c}}$"
      ],
      "text/plain": [
       "<IPython.core.display.Math object>"
      ]
     },
     "metadata": {},
     "output_type": "display_data"
    },
    {
     "data": {
      "text/latex": [
       "$\\displaystyle L = \\frac{R_{0}}{2 \\pi f_{c}}$"
      ],
      "text/plain": [
       "<IPython.core.display.Math object>"
      ]
     },
     "metadata": {},
     "output_type": "display_data"
    },
    {
     "name": "stdout",
     "output_type": "stream",
     "text": [
      "\n",
      "\n",
      "\n"
     ]
    },
    {
     "data": {
      "image/png": "[encoded data removed]",
      "text/plain": [
       "<Figure size 640x480 with 1 Axes>"
      ]
     },
     "metadata": {},
     "output_type": "display_data"
    }
   ],
   "source": [
    "display(Math(r\"$Z(s) = \" + latex(z) + r\"$\"))\n",
    "display(Math(r\"$Z(s)|_{R_L, R_C = 0, C_d = nC} = \" + latex(z_) + r\"$\"))\n",
    "display(Math(r\"$H(s)|_{R_L, R_C = 0, C_d = nC} = \" + latex(h_) + r\"$\"))\n",
    "display(Math(r\"$Z(p, Q, n) = \" + latex(zq) + r\"$\"))\n",
    "display(Math(r\"$x_{opt} = \\frac{\\omega}{\\omega_0} = \" + latex(xopt) + r\"$\"))\n",
    "display(Math(r\"$Q_{opt} = \" + latex(qopt) + r\"$\"))\n",
    "display(Math(r\"$R_{0, opt} = \" + latex(r0_opt) + r\"$\"))\n",
    "display(Math(r\"$n_{opt} = \" + latex(nopt) + r\"$\"))\n",
    "display(Math(r\"$|Z_{out}|_{max} = \" + latex(z_max) + r\"$\"))\n",
    "display(Math(r\"$\\frac{f_{c, new}}{f_c} = \" + latex(w0_deg) + r\"$\"))\n",
    "display(Math(r\"$f_m = \" + latex(fm) + r\", \\,\\,\\,\\,\\, |Z(f = f_m)_{out}| = |Z_{out}|_{max}$\"))\n",
    "display(Math(r\"$C = \" + latex(c_) + r\"$\"))\n",
    "display(Math(r\"$L = \" + latex(l_) + r\"$\"))\n",
    "# display(Math(r\"$\" + latex() + r\"$\"))\n",
    "\n",
    "print('\\n\\n')\n",
    "plt.plot(n_val, z_val, label = r\"$\\frac{|Z_{out}|_{min}}{R_0}$\")\n",
    "plt.plot(n_val, w_val, label = r\"$\\frac{f_c}{f_0}$\")\n",
    "plt.grid(); plt.legend(fontsize = 20);\n",
    "plt.xlabel('n', fontsize = 20); plt.ylabel('dB', fontsize = 20);\n",
    "plt.xlim([min(n_val), 2]); plt.ylim([-10, 15]);"
   ]
  },
  {
   "cell_type": "code",
   "execution_count": 199,
   "id": "11494479-2855-4b26-a22f-2914e9e1a4af",
   "metadata": {},
   "outputs": [
    {
     "data": {
      "text/latex": [
       "$\\displaystyle R_{in, \\, min} = -3.92 \\,\\,\\Omega, \\,\\,\\,\\,\\,|Z_{out}|_{min} = 0.392 \\,\\,\\Omega$"
      ],
      "text/plain": [
       "<IPython.core.display.Math object>"
      ]
     },
     "metadata": {},
     "output_type": "display_data"
    },
    {
     "data": {
      "text/latex": [
       "$\\displaystyle f_{switch, \\, min} = 400 \\,\\,kHz, \\,\\,\\,\\,\\,f_{crossover, \\, min} = 40 \\,\\,kHz, \\,\\,\\,\\,\\,f_{0} = 4 \\,\\,kHz$"
      ],
      "text/plain": [
       "<IPython.core.display.Math object>"
      ]
     },
     "metadata": {},
     "output_type": "display_data"
    },
    {
     "data": {
      "text/latex": [
       "$\\displaystyle n_{opt} = 0.5$"
      ],
      "text/plain": [
       "<IPython.core.display.Math object>"
      ]
     },
     "metadata": {},
     "output_type": "display_data"
    },
    {
     "data": {
      "text/latex": [
       "$\\displaystyle Q_{opt} = 0.913$"
      ],
      "text/plain": [
       "<IPython.core.display.Math object>"
      ]
     },
     "metadata": {},
     "output_type": "display_data"
    },
    {
     "data": {
      "text/latex": [
       "$\\displaystyle R_{0, opt} = 0.277\\, \\Omega$"
      ],
      "text/plain": [
       "<IPython.core.display.Math object>"
      ]
     },
     "metadata": {},
     "output_type": "display_data"
    },
    {
     "data": {
      "text/latex": [
       "$\\displaystyle C_{opt} = 143.724\\, \\mu F$$\\,\\,\\,\\,\\,L_{opt} = 11.026\\, \\mu H$"
      ],
      "text/plain": [
       "<IPython.core.display.Math object>"
      ]
     },
     "metadata": {},
     "output_type": "display_data"
    },
    {
     "data": {
      "text/latex": [
       "$\\displaystyle L_{d, opt} = 5.513\\, \\mu H$$\\,\\,\\,\\,\\,R_{d, opt} = 0.253\\, \\Omega$"
      ],
      "text/plain": [
       "<IPython.core.display.Math object>"
      ]
     },
     "metadata": {},
     "output_type": "display_data"
    },
    {
     "data": {
      "text/latex": [
       "$\\displaystyle |Z_{out}|_{max} = 0.392\\, \\Omega$"
      ],
      "text/plain": [
       "<IPython.core.display.Math object>"
      ]
     },
     "metadata": {},
     "output_type": "display_data"
    },
    {
     "data": {
      "text/latex": [
       "$\\displaystyle f_{cutoff} = 6.928\\, kHz$"
      ],
      "text/plain": [
       "<IPython.core.display.Math object>"
      ]
     },
     "metadata": {},
     "output_type": "display_data"
    },
    {
     "data": {
      "text/latex": [
       "$\\displaystyle f_{m} = 4.383\\, kHz$"
      ],
      "text/plain": [
       "<IPython.core.display.Math object>"
      ]
     },
     "metadata": {},
     "output_type": "display_data"
    },
    {
     "data": {
      "image/png": "[encoded data removed]",
      "text/plain": [
       "<Figure size 1000x600 with 1 Axes>"
      ]
     },
     "metadata": {},
     "output_type": "display_data"
    }
   ],
   "source": [
    "vin_min = 14     # In Ohms\n",
    "pin_max = 50     # In Wats\n",
    "fs_min  = 400e3  # In Hz\n",
    "\n",
    "zin_min = - vin_min**2 / pin_max\n",
    "fcross_min = fs_min/10\n",
    "fc_min = fcross_min/10\n",
    "zout_min = -1 * zin_min/10\n",
    "\n",
    "nopt_ = 0.5\n",
    "qopt_ = round(qopt.subs(n, nopt_).evalf(), 3)\n",
    "r0opt_ = round(r0_opt.subs(n, nopt_).subs(zout, zout_min).evalf(), 3) \n",
    "copt_ = c_.subs(pi, 3.14).subs(r0, r0opt_).subs(fc, fc_min).evalf()\n",
    "lopt_ = l_.subs(pi, 3.14).subs(r0, r0opt_).subs(fc, fc_min).evalf()\n",
    "ldopt_ = lopt_*nopt_\n",
    "rdopt_ = r0opt_*qopt_\n",
    "f_cut = fc_min * w0_deg.subs(n, nopt_).evalf()\n",
    "zmax_ = round(z_max.subs(n, nopt_).subs(r0, r0opt_), 3)\n",
    "fm_ = fm.subs(fc, f_cut).subs(q, qopt_).evalf()\n",
    "\n",
    "\n",
    "display(Math(\"R_{in, \\, min} = \" + latex(zin_min) + \" \\,\\,\\Omega\" + \", \\,\\,\\,\\,\\,|Z_{out}|_{min} = \" + latex(zout_min) + \" \\,\\,\\Omega\"))\n",
    "display(Math(\"f_{switch, \\, min} = \" + latex(int(fs_min*1e-3)) + \" \\,\\,kHz\" + \", \\,\\,\\,\\,\\,f_{crossover, \\, min} = \" + latex(int(fcross_min*1e-3)) + \" \\,\\,kHz\" + \", \\,\\,\\,\\,\\,f_{0} = \" + latex(int(fc_min*1e-3)) + \" \\,\\,kHz\"))\n",
    "display(Math(r\"$n_{opt} = \" + latex(nopt_) + r\"$\"))\n",
    "display(Math(r\"$Q_{opt} = \" + latex(qopt_) + r\"$\"))\n",
    "display(Math(r\"$R_{0, opt} = \" + latex(r0opt_) + r\"\\, \\Omega$\"))\n",
    "display(Math(r\"$C_{opt} = \" + latex(round(copt_*1e6, 3)) + r\"\\, \\mu F$\" + r\"$\\,\\,\\,\\,\\,L_{opt} = \" + latex(round(lopt_*1e6, 3)) + r\"\\, \\mu H$\"))\n",
    "display(Math(r\"$L_{d, opt} = \" + latex(round(ldopt_*1e6, 3)) + r\"\\, \\mu H$\" + r\"$\\,\\,\\,\\,\\,R_{d, opt} = \" + latex(rdopt_) + r\"\\, \\Omega$\"))\n",
    "display(Math(r\"$|Z_{out}|_{max} = \" + latex(zmax_) + r\"\\, \\Omega$\"))\n",
    "display(Math(r\"$f_{cutoff} = \" + latex(round(f_cut*1e-3, 3)) + r\"\\, kHz$\"))\n",
    "display(Math(r\"$f_{m} = \" + latex(round(fm_*1e-3, 3)) + r\"\\, kHz$\"))\n",
    "\n",
    "x_val = np.linspace(10e-4, 10e2, 8196)\n",
    "habs = simplify(hq_abs.subs(q, qopt_).subs(n, nopt_).subs(r0, r0opt_))\n",
    "habs = lambdify(x, habs, 'numpy')\n",
    "h_val = 20*np.log10(habs(x_val))\n",
    "\n",
    "zabs = simplify(zq_abs.subs(q, qopt_).subs(n, nopt_).subs(r0, r0opt_))\n",
    "zabs = lambdify(x, zabs, 'numpy')\n",
    "z_val = 20*np.log10(zabs(x_val))\n",
    "z0_val = 20*np.log10(np.ones(len(z_val))*np.abs(zin_min))\n",
    "\n",
    "# Find the maximum value of z_val and its corresponding x value\n",
    "max_z_val = np.max(z_val)\n",
    "max_z_val_index = np.argmax(z_val)\n",
    "max_x_val = x_val[max_z_val_index]\n",
    "\n",
    "# Calculate the difference\n",
    "difference = max_z_val - z0_val[0]\n",
    "\n",
    "# Create a larger figure\n",
    "plt.figure(figsize=(10, 6))\n",
    "# Plot the values\n",
    "plt.plot(x_val, h_val, label=r'$|H(f)|$')\n",
    "plt.plot(x_val, z_val, label=r'$|Z_{out}(f)|$')\n",
    "plt.plot(x_val, z0_val, label=r'$|Z_{in}(f)|_{DCM}$')\n",
    "\n",
    "ymin = -100\n",
    "ymax = 20\n",
    "\n",
    "h_cutoff_index = np.argmin(np.abs(x_val - f_cut/fc_min))\n",
    "\n",
    "# Plot the vertical line\n",
    "plt.plot([max_x_val, max_x_val], [z0_val[0], max_z_val], 'k--')\n",
    "plt.plot([f_cut/fc_min, f_cut/fc_min], [ymin,  h_val[h_cutoff_index]], 'r--')\n",
    "\n",
    "# Annotate the plot with the difference value\n",
    "plt.annotate(r'$\\Delta Z_{dB} = $ ' + f'{-difference:.2f} dB', xy=(max_x_val, (z0_val[0] + max_z_val) / 2), \n",
    "             xytext=(max_x_val + 0.5, max_z_val + 10), fontsize=15)\n",
    "# Annotate the plot with the maximum x value\n",
    "plt.annotate(r'$f_{c} = \\,\\,$' + f'{round(f_cut*1e-3, 3)} kHz', xy=(max_x_val, max_z_val), \n",
    "             xytext=(h_cutoff_index-11, ymin + (ymax - ymin) * 0.29), fontsize=15)\n",
    "plt.annotate(r'$f_{m} = \\,\\,$' + f'{round(fm_*1e-3, 3)} kHz', xy=(max_x_val, max_z_val), \n",
    "             xytext=(h_cutoff_index-11, ymin + (ymax - ymin) * 0.22), fontsize=15)\n",
    "plt.annotate(r'$f_{0} = \\,\\,$' + f'{round(fc_min*1e-3, 3)} kHz', xy=(h_cutoff_index, max_z_val), \n",
    "             xytext=(h_cutoff_index-11, ymin + (ymax - ymin) * 0.15), fontsize=15)\n",
    "\n",
    "# Add labels and legend\n",
    "plt.ylabel('dB', fontsize=20); plt.xlabel(r'$\\frac{f}{f_0}$', fontsize=20)\n",
    "plt.xscale('log')\n",
    "plt.title(fr\"$f_0 = {int(fc_min*1e-3)}$ kHz\")\n",
    "plt.legend(loc='center left', bbox_to_anchor=(0, 0.9), fontsize=12)\n",
    "plt.grid();\n",
    "plt.ylim([ymin, ymax]);"
   ]
  },
  {
   "cell_type": "markdown",
   "id": "38485771-2473-4041-b4ac-090735e4a6ef",
   "metadata": {},
   "source": [
    "## ___Series-Damped LC Filter___ with Parallel Bypass inductor\n",
    " \n",
    "![Alt text](imgs/LC_series_damped_2.png)"
   ]
  },
  {
   "cell_type": "code",
   "execution_count": null,
   "id": "784706ea-e364-4e19-aa7d-b4312e816943",
   "metadata": {},
   "outputs": [],
   "source": []
  },
  {
   "cell_type": "markdown",
   "id": "a0637141-ef3a-410a-83ea-8fb96309eed2",
   "metadata": {},
   "source": [
    "## ___Simplified Series-Damped LC Filter___\n",
    "\n",
    "![Alt text](imgs/LC_series_damped_simplified.png)"
   ]
  },
  {
   "cell_type": "code",
   "execution_count": null,
   "id": "0f2e7bbb-9d95-4e6e-9033-5d9b06c593df",
   "metadata": {},
   "outputs": [],
   "source": []
  }
 ],
 "metadata": {
  "kernelspec": {
   "display_name": "Python 3 (ipykernel)",
   "language": "python",
   "name": "python3"
  },
  "language_info": {
   "codemirror_mode": {
    "name": "ipython",
    "version": 3
   },
   "file_extension": ".py",
   "mimetype": "text/x-python",
   "name": "python",
   "nbconvert_exporter": "python",
   "pygments_lexer": "ipython3",
   "version": "3.11.7"
  }
 },
 "nbformat": 4,
 "nbformat_minor": 5
}
