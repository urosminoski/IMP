{
 "cells": [
  {
   "cell_type": "code",
   "execution_count": 1,
   "id": "482a21c4-a598-47b3-8d14-67c2de0eb754",
   "metadata": {},
   "outputs": [],
   "source": [
    "from IPython.display import display, Math, Latex\n",
    "from sympy import *\n",
    "from sympy.solvers import solve"
   ]
  },
  {
   "cell_type": "code",
   "execution_count": null,
   "id": "499c9b00-5412-453e-9e03-dd4a37182a58",
   "metadata": {},
   "outputs": [],
   "source": [
    "vin, vout = symbols('V_{in} V_{out}')\n",
    "Iin, Iout = symbols('I_{in} I_{out}')\n",
    "j, w"
   ]
  },
  {
   "cell_type": "markdown",
   "id": "0cd329f0-b106-46bf-b2f6-e478a2f4dccb",
   "metadata": {},
   "source": [
    "## <center> Undamped LC Filter"
   ]
  },
  {
   "cell_type": "code",
   "execution_count": 2,
   "id": "90201280-8aec-4181-b15b-217178d55cfa",
   "metadata": {},
   "outputs": [
    {
     "data": {
      "text/latex": [
       "$\\displaystyle g_1 = \\frac{1}{\\gamma}$"
      ],
      "text/plain": [
       "<IPython.core.display.Math object>"
      ]
     },
     "metadata": {},
     "output_type": "display_data"
    },
    {
     "data": {
      "text/latex": [
       "$\\displaystyle g_2 = \\frac{2 \\gamma}{\\gamma^{2} + 0.75}$"
      ],
      "text/plain": [
       "<IPython.core.display.Math object>"
      ]
     },
     "metadata": {},
     "output_type": "display_data"
    },
    {
     "data": {
      "text/latex": [
       "$\\displaystyle g_3 = \\frac{1}{\\gamma}$"
      ],
      "text/plain": [
       "<IPython.core.display.Math object>"
      ]
     },
     "metadata": {},
     "output_type": "display_data"
    },
    {
     "name": "stdout",
     "output_type": "stream",
     "text": [
      "\n",
      "Latex code:\n",
      "g1 = \\frac{1}{\\gamma}\n",
      "\n",
      "g2 = \\frac{2 \\gamma}{\\gamma^{2} + 0.75}\n",
      "\n",
      "g3 = \\frac{1}{\\gamma}\n"
     ]
    }
   ],
   "source": [
    "vin, vout = symbols('V_{in} V_{out}')\n",
    "Iin, Iout = symbols('I_{in} I_{out}')"
   ]
  },
  {
   "cell_type": "code",
   "execution_count": null,
   "id": "c2707286-47d0-47ff-b077-0a709a66dece",
   "metadata": {},
   "outputs": [],
   "source": []
  }
 ],
 "metadata": {
  "kernelspec": {
   "display_name": "Python 3 (ipykernel)",
   "language": "python",
   "name": "python3"
  },
  "language_info": {
   "codemirror_mode": {
    "name": "ipython",
    "version": 3
   },
   "file_extension": ".py",
   "mimetype": "text/x-python",
   "name": "python",
   "nbconvert_exporter": "python",
   "pygments_lexer": "ipython3",
   "version": "3.11.7"
  }
 },
 "nbformat": 4,
 "nbformat_minor": 5
}
